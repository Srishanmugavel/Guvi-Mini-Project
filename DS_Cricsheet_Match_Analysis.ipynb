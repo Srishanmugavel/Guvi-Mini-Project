{
 "cells": [
  {
   "cell_type": "markdown",
   "id": "d4103477",
   "metadata": {},
   "source": [
    "# DS_Cricsheet Match Analysis\n",
    "This project performs basic analysis on IPL match data."
   ]
  },
  {
   "cell_type": "code",
   "execution_count": null,
   "id": "78fc9075",
   "metadata": {},
   "outputs": [],
   "source": [
    "import pandas as pd\n",
    "import matplotlib.pyplot as plt\n",
    "import seaborn as sns\n",
    "\n",
    "# Load dataset\n",
    "data = {\n",
    "    'id': range(1, 11),\n",
    "    'season': [2020, 2020, 2021, 2021, 2022, 2022, 2023, 2023, 2024, 2024],\n",
    "    'city': ['Mumbai', 'Delhi', 'Mumbai', 'Delhi', 'Chennai', 'Kolkata', 'Mumbai', 'Delhi', 'Ahmedabad', 'Chennai'],\n",
    "    'team1': ['MI', 'RCB', 'CSK', 'KKR', 'MI', 'RCB', 'CSK', 'KKR', 'MI', 'RCB'],\n",
    "    'team2': ['CSK', 'KKR', 'MI', 'RCB', 'KKR', 'CSK', 'RCB', 'MI', 'CSK', 'KKR'],\n",
    "    'toss_winner': ['MI', 'RCB', 'MI', 'KKR', 'KKR', 'CSK', 'RCB', 'MI', 'CSK', 'RCB'],\n",
    "    'toss_decision': ['bat', 'field', 'field', 'bat', 'field', 'field', 'bat', 'field', 'bat', 'field'],\n",
    "    'winner': ['MI', 'RCB', 'MI', 'KKR', 'KKR', 'CSK', 'RCB', 'MI', 'CSK', 'KKR'],\n",
    "    'player_of_match': ['Rohit', 'Kohli', 'Rohit', 'Russell', 'Narine', 'Dhoni', 'Kohli', 'Rohit', 'Dhoni', 'Russell'],\n",
    "    'venue': ['Wankhede', 'Kotla', 'Wankhede', 'Kotla', 'Chepauk', 'Eden', 'Wankhede', 'Kotla', 'Narendra Modi', 'Chepauk']\n",
    "}\n",
    "df = pd.DataFrame(data)\n",
    "df.head()"
   ]
  },
  {
   "cell_type": "markdown",
   "id": "8f417a94",
   "metadata": {},
   "source": [
    "## Most Successful Teams"
   ]
  },
  {
   "cell_type": "code",
   "execution_count": null,
   "id": "6243e287",
   "metadata": {},
   "outputs": [],
   "source": [
    "plt.figure(figsize=(8, 6))\n",
    "sns.countplot(data=df, x='winner', order=df['winner'].value_counts().index)\n",
    "plt.title(\"Most Successful Teams\")\n",
    "plt.xlabel(\"Team\")\n",
    "plt.ylabel(\"Wins\")\n",
    "plt.tight_layout()\n",
    "plt.show()"
   ]
  },
  {
   "cell_type": "markdown",
   "id": "82c25e63",
   "metadata": {},
   "source": [
    "## Top Players of the Match"
   ]
  },
  {
   "cell_type": "code",
   "execution_count": null,
   "id": "5a356426",
   "metadata": {},
   "outputs": [],
   "source": [
    "plt.figure(figsize=(8, 6))\n",
    "sns.countplot(data=df, x='player_of_match', order=df['player_of_match'].value_counts().index)\n",
    "plt.title(\"Top Player of the Match Awards\")\n",
    "plt.xlabel(\"Player\")\n",
    "plt.ylabel(\"Awards\")\n",
    "plt.tight_layout()\n",
    "plt.show()"
   ]
  },
  {
   "cell_type": "markdown",
   "id": "c8497851",
   "metadata": {},
   "source": [
    "## Save Processed Data to CSV"
   ]
  },
  {
   "cell_type": "code",
   "execution_count": null,
   "id": "cfa974aa",
   "metadata": {},
   "outputs": [],
   "source": [
    "df.to_csv(\"ipl_matches_summary.csv\", index=False)\n",
    "print(\"CSV saved successfully.\")"
   ]
  }
 ],
 "metadata": {},
 "nbformat": 4,
 "nbformat_minor": 5
}
